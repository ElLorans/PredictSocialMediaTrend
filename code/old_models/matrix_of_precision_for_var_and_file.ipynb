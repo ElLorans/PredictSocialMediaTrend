{
 "cells": [
  {
   "cell_type": "raw",
   "metadata": {},
   "source": [
    "# Obtain matrix for each column and each file\n",
    "# stating success & reliability of Baseline Model\n",
    "\n",
    "# Baseline Model is a model that divides a dataset in time windows of 4 weeks (the parameter can be changed when calling the  function), \n",
    "# does linear regression on each time window's\n",
    "# first 3 weeks and use the regression to understand if 4 week will see an increase or a decrease.\n",
    "\n",
    "# So Baseline Model gets first 3 weeks to predict fourth, gets weeks 2-5 to predict the sixth ... and so on.\n",
    "\n",
    "# Baseline Model forecasts only whether there will be growth in the last week of each period!"
   ]
  },
  {
   "cell_type": "code",
   "execution_count": 1,
   "metadata": {
    "pycharm": {
     "is_executing": false
    }
   },
   "outputs": [],
   "source": [
    "import numpy as np\n",
    "import pandas as pd\n",
    "from sklearn.linear_model import LinearRegression\n",
    "from sklearn.model_selection import train_test_split  # splits data for training and testing"
   ]
  },
  {
   "cell_type": "code",
   "execution_count": 2,
   "metadata": {},
   "outputs": [],
   "source": [
    "%%capture\n",
    "# create loading bar\n",
    "from tqdm.notebook import tqdm\n",
    "tqdm().pandas()"
   ]
  },
  {
   "cell_type": "code",
   "execution_count": 4,
   "metadata": {
    "pycharm": {
     "is_executing": false
    }
   },
   "outputs": [],
   "source": [
    "folder = 'C:/Users/Lorenzo/Desktop/MyStuff/Master/Paris/Bloom/data/'\n",
    "\n",
    "count_ig_csv = folder + 'emerging_risks_doc_count_instagram.csv'\n",
    "count_tw_csv = folder + 'emerging_risks_doc_count_twitter.csv'\n",
    "\n",
    "engagement_fb_csv = folder + 'emerging_risks_local_engagement_facebook.csv'\n",
    "engagement_ig_csv = folder + 'emerging_risks_local_engagement_instagram.csv'\n",
    "engagement_tw_csv = folder + 'emerging_risks_local_engagement_twitter.csv'\n",
    "\n",
    "files = [count_ig_csv, count_tw_csv, engagement_fb_csv, engagement_ig_csv, engagement_tw_csv]\n",
    "\n",
    "dfs = {'count_ig_csv': pd.read_csv(count_ig_csv),\n",
    "       'count_tw_csv': pd.read_csv(count_tw_csv), \n",
    "       'engagement_fb_csv': pd.read_csv(engagement_fb_csv), \n",
    "       'engagement_ig_csv': pd.read_csv(engagement_ig_csv),\n",
    "       'engagement_tw_csv': pd.read_csv(engagement_tw_csv)}"
   ]
  },
  {
   "cell_type": "code",
   "execution_count": 5,
   "metadata": {},
   "outputs": [],
   "source": [
    "# %%\n",
    "df = pd.read_csv(count_tw_csv)\n",
    "\n",
    "try:\n",
    "    df.drop([381, 382, 383], inplace=True) # drop rows 381, 382, 383 as they are 0 values\n",
    "    df.date = pd.to_datetime(df.date)\n",
    "    df.set_index('date', inplace=True)                  # set date as index\n",
    "    df = df.asfreq('d')\n",
    "except KeyError:                          # pass if rows 381, 382, 383 have already been dropped\n",
    "    print(\"KeyError\")\n",
    "    pass"
   ]
  },
  {
   "cell_type": "code",
   "execution_count": 4,
   "metadata": {
    "pycharm": {
     "is_executing": false
    }
   },
   "outputs": [],
   "source": [
    "# def is_up_real_target(ser: pd.Series) -> bool:  \n",
    "#     \"\"\"\n",
    "#     Evaluates whether the last value of a pandas Series is higher than the first one.\n",
    "#     Goal: Understand if during the test period we have a positive or negative trend.\n",
    "#       \n",
    "#     :param ser: column of dataset to predict (REAL value of the part of the dataset selected for test).\n",
    "#     : param mean_previous_week: UNUSED right now \n",
    "#     TODO: IMPROVE. Maybe compare mean_previous_week to ser.mean() ??\n",
    "#     \"\"\" \n",
    "#     if ser.values[0] < ser.values[-1]:\n",
    "#         return True    \n",
    "#     return False\n",
    "\n",
    "def is_trending_up_real_target(ser: pd.Series) -> bool:\n",
    "    \"\"\"\n",
    "    Improvement of previous version: estimate sign of linear regression coefficient for real data in week 4.\n",
    "    \"\"\"\n",
    "    model = LinearRegression()\n",
    "    x = ser.index.values.reshape(-1,1)\n",
    "    y = ser\n",
    "    model.fit(x, y)\n",
    "    if model.coef_ > 0:\n",
    "        return True\n",
    "    return False\n",
    "    \n",
    "def is_up_predicted_target(coefficients: np.array) -> bool:\n",
    "    \"\"\"\n",
    "    Evaluates if slope of the linear regression is positive.\n",
    "    Goal: Understand if during the trend period we have a positive or negative trend (calculated as slope/coefficient of a \n",
    "    regression)\n",
    "    :param coefficients: coefficients of regression on column of dataset used for training.\n",
    "    \"\"\"\n",
    "    if coefficients[0] > 0:\n",
    "        return True\n",
    "    return False\n",
    "\n",
    "\n",
    "def update_eval_values(tp: int, tn: int, fp: int, fn: int, predicted_target:bool, real_target:bool):\n",
    "    \"\"\"\n",
    "    Updates matrix of\n",
    "     _________________________________\n",
    "    | True Positive  | False Positive |\n",
    "     ---------------------------------\n",
    "    | False Negative | True Negative  |\n",
    "     _________________________________\n",
    "    \n",
    "    depending on the difference \n",
    "    Goal: Considering one train/test, understand if the model is correctly predicting if the test period had a positive \n",
    "    or negative trend.\n",
    "    \"\"\"\n",
    "    if predicted_target == 1 and real_target == 1:\n",
    "        tp += 1\n",
    "    elif predicted_target == 0 and real_target == 0:\n",
    "        tn += 1\n",
    "    elif predicted_target == 1 and real_target == 0:\n",
    "        fp += 1\n",
    "    elif predicted_target == 0 and real_target == 1:\n",
    "        fn += 1\n",
    "    return tp, tn, fp, fn"
   ]
  },
  {
   "cell_type": "code",
   "execution_count": 5,
   "metadata": {
    "pycharm": {
     "is_executing": false
    }
   },
   "outputs": [],
   "source": [
    "def confusion_matrix_baseline_model(column: pd.Series, step_days: int, month_length: int, evaluate_trend=True, \n",
    "                                    accuracy_matrix=False):\n",
    "    \"\"\"\n",
    "    Apply linear regression model to one variable in one file and return the confusion matrix\n",
    "     _________________________________\n",
    "    | True Positive  | False Positive |\n",
    "     ---------------------------------\n",
    "    | False Negative | True Negative  |\n",
    "     _________________________________      \n",
    "    Time column is split into moving time windows of length = \"month_length\". To each time window, \n",
    "    a linear regression is applied on a \"train\" period of length = (month_length - step_days) and then tested on a \"test\" \n",
    "    period of length = step_days.\n",
    "    :param evaluate_trend: if set to True, calls is_trending_up_real_target() in place of is_up_real_target()\n",
    "    :param accuracy_matrix: if set to True, returns accuracy float = (tp + tn)/(tp+tn+fp+fn) rather than dict.\n",
    "    \"\"\"\n",
    "    tp, tn, fp, fn = 0, 0, 0, 0\n",
    "    for day in range(0, 364, step_days):\n",
    "        month = column[day : (day + month_length)]                              # len(month) == month_length       \n",
    "        train, test = month[: -step_days], month[-step_days:]\n",
    "            \n",
    "        model = LinearRegression()\n",
    "        X_train = train.index.values.reshape(-1, 1)\n",
    "        y_train = train\n",
    "        model.fit(X_train, y_train)\n",
    "        \n",
    "        if evaluate_trend is False:\n",
    "            real_target = is_up_real_target(test)\n",
    "        else:       # elif evaluate_trend is True:\n",
    "            real_target = is_trending_up_real_target(test)\n",
    "            \n",
    "        predicted_target = is_up_predicted_target(model.coef_)\n",
    "        tp, tn, fp, fn = update_eval_values(tp, tn, fp, fn, predicted_target, real_target)\n",
    "    \n",
    "    if accuracy_matrix is True:\n",
    "        return (tp + tn) / (tp + tn + fp + fn)\n",
    "    \n",
    "    return {\"tp\": tp, \"tn\": tn, \"fp\": fp, \"fn\": fn}"
   ]
  },
  {
   "cell_type": "code",
   "execution_count": 6,
   "metadata": {
    "pycharm": {
     "is_executing": false
    }
   },
   "outputs": [],
   "source": [
    "def get_df_matrix(data_table: pd.DataFrame, confusion=False, accuracy=False, step_days=7, month_length=28,\n",
    "                  threshold=10, evaluate_trend=True) -> dict:\n",
    "    \"\"\"\n",
    "    Return the confusion matrix or the accuracy matrix for an entire df.\n",
    "    Confusion matrix for entire df is a dict of dicts.\n",
    "    Accuracy matrix for entire df is a dict of floats.\n",
    "    \n",
    "    :param threshold: min of # of values different from 0.\n",
    "    :param evaluate_trend: if set to True, calls is_trending_up_real_target() in place of is_up_real_target()\n",
    "    \"\"\"\n",
    "    if confusion == accuracy:     # this does not catch all errors, but it is pointless to make more serious checks\n",
    "        raise TypeError('Set either confusion or accuracy to True.'\n",
    "                        '\\nUse either get_file_matrix(df, confusion=True) or get_file_matrix(df, accuracy=true)')    \n",
    "    elif confusion is True:\n",
    "        matrix = {colonna: confusion_matrix_baseline_model(data_table[colonna], step_days, month_length, \n",
    "                                                                   evaluate_trend=evaluate_trend) \n",
    "                  for colonna in data_table\n",
    "                  if colonna != 'date' \n",
    "                  and \n",
    "                  sum(data_table[colonna] != 0) >= threshold}    \n",
    "    elif accuracy is True:\n",
    "        matrix = {colonna: confusion_matrix_baseline_model(data_table[colonna], step_days, month_length, \n",
    "                                                                   evaluate_trend=evaluate_trend, accuracy_matrix=accuracy) \n",
    "                  for colonna in data_table              \n",
    "                  if colonna != 'date' and \n",
    "                  sum(data_table[colonna] != 0) >= threshold}\n",
    "    return matrix"
   ]
  },
  {
   "cell_type": "code",
   "execution_count": 7,
   "metadata": {},
   "outputs": [
    {
     "data": {
      "application/vnd.jupyter.widget-view+json": {
       "model_id": "dc9818b552cd4daf8dd23f01b0a7ebae",
       "version_major": 2,
       "version_minor": 0
      },
      "text/plain": [
       "HBox(children=(FloatProgress(value=0.0, max=5.0), HTML(value='')))"
      ]
     },
     "metadata": {},
     "output_type": "display_data"
    },
    {
     "name": "stdout",
     "output_type": "stream",
     "text": [
      "\n"
     ]
    }
   ],
   "source": [
    "# confusion matrixes not suited to csv export: each cell is a dictionary with the confusion matrix!\n",
    "# takes 23 seconds\n",
    "confusion_matrixes = {df: get_df_matrix(dfs[df], confusion=True, step_days=7, month_length=28) for df in tqdm(dfs)} "
   ]
  },
  {
   "cell_type": "code",
   "execution_count": 8,
   "metadata": {},
   "outputs": [
    {
     "data": {
      "application/vnd.jupyter.widget-view+json": {
       "model_id": "c141dce2fdcc479aab17edba82ebd4b5",
       "version_major": 2,
       "version_minor": 0
      },
      "text/plain": [
       "HBox(children=(FloatProgress(value=0.0, max=5.0), HTML(value='')))"
      ]
     },
     "metadata": {},
     "output_type": "display_data"
    },
    {
     "name": "stdout",
     "output_type": "stream",
     "text": [
      "\n"
     ]
    }
   ],
   "source": [
    "# this needs 24 seconds ca. BUT DEPENDS: the shorter month_length, the longer it takes!\n",
    "accuracy_matrixes = {df: get_df_matrix(dfs[df], accuracy=True, step_days=7, month_length=35) for df in tqdm(dfs)}"
   ]
  },
  {
   "cell_type": "code",
   "execution_count": 12,
   "metadata": {},
   "outputs": [
    {
     "data": {
      "application/vnd.jupyter.widget-view+json": {
       "model_id": "81adfe68faa84265a9e81d0115d346ec",
       "version_major": 2,
       "version_minor": 0
      },
      "text/plain": [
       "HBox(children=(FloatProgress(value=0.0, max=5.0), HTML(value='')))"
      ]
     },
     "metadata": {},
     "output_type": "display_data"
    },
    {
     "name": "stdout",
     "output_type": "stream",
     "text": [
      "\n"
     ]
    }
   ],
   "source": [
    "accuracy_matrixes = {df: get_df_matrix(dfs[df], accuracy=True, step_days=1, month_length=3, \n",
    "                                       evaluate_trend=False) for df in tqdm(dfs)}"
   ]
  },
  {
   "cell_type": "code",
   "execution_count": 9,
   "metadata": {},
   "outputs": [
    {
     "name": "stdout",
     "output_type": "stream",
     "text": [
      "count_ig_csv         0.592091\n",
      "count_tw_csv         0.493652\n",
      "engagement_fb_csv    0.552093\n",
      "engagement_ig_csv    0.612557\n",
      "engagement_tw_csv    0.513386\n",
      "dtype: float64\n"
     ]
    }
   ],
   "source": [
    "acc_df = pd.DataFrame(accuracy_matrixes)\n",
    "# acc_df.to_csv(\"accuracy_matrix.csv\")\n",
    "\n",
    "source_accuracies = acc_df.mean(axis=0) # by column\n",
    "topic_accuracies = acc_df.mean(axis=1)  # by row\n",
    "\n",
    "print(source_accuracies)\n",
    "# source_accuracies.to_csv(\"BaselineModelAccuracyByDoc.csv\", header=[\"Baseline Model Avg Accuracy\"])"
   ]
  },
  {
   "cell_type": "raw",
   "metadata": {},
   "source": [
    "# Threshold of 10 non-0 values caused a loss in accuracy of \n",
    "\n",
    "# count_ig_csv         7 % points\n",
    "# count_tw_csv         0 % points\n",
    "# engagement_fb_csv    7 % points\n",
    "# engagement_ig_csv    14 % points\n",
    "# engagement_tw_csv    0 % points"
   ]
  },
  {
   "cell_type": "code",
   "execution_count": 10,
   "metadata": {},
   "outputs": [
    {
     "name": "stdout",
     "output_type": "stream",
     "text": [
      "Pesticides                     0.550000\n",
      "Waste                          0.553846\n",
      "Farmer                         0.507692\n",
      "Chemical                       0.557692\n",
      "Food_Waste                     0.569231\n",
      "                                 ...   \n",
      "Perchlorate                    0.663462\n",
      "Dairy_Industry_Lie             0.423077\n",
      "Genetically_Modified_Animal    0.471154\n",
      "Milk_Sales                     0.817308\n",
      "Overpackaging                  0.673077\n",
      "Length: 103, dtype: float64\n"
     ]
    }
   ],
   "source": [
    "print(topic_accuracies)\n",
    "# topic_accuracies.to_csv(\"BaselineModelAccuracyByTopic.csv\", header=[\"Baseline Model Avg Accuracy\"])"
   ]
  },
  {
   "cell_type": "code",
   "execution_count": 11,
   "metadata": {
    "pycharm": {
     "is_executing": false
    }
   },
   "outputs": [],
   "source": [
    "test_df = dfs[\"count_tw_csv\"]"
   ]
  },
  {
   "cell_type": "code",
   "execution_count": 12,
   "metadata": {},
   "outputs": [],
   "source": [
    "from itertools import combinations\n",
    "comb = list(combinations(range(2, 29), 2))  # get all ordered 2-numbers combinations of numbers btw 2 and 28 included\n",
    "# combinations are ordered: first number is always lower\n",
    "\n",
    "# select only relevant combinations\n",
    "rel_combinations = list()\n",
    "for step, per in comb:\n",
    "    # to predict a period of step days, I decide to use at least twice that # of days and max 5 times the # of days\n",
    "    if (per-step)/2 >= step and (per-step)/5 <= step:\n",
    "        # print(per-step, step)\n",
    "        rel_combinations.append((step, per))"
   ]
  },
  {
   "cell_type": "raw",
   "metadata": {
    "pycharm": {
     "is_executing": false
    }
   },
   "source": [
    "# this cell will not work on jupyter lab, please use jupyter notebook\n",
    "# THIS cell NEEDS 30 minutes to execute!\n",
    "results = {\n",
    "    (step, period): get_df_matrix(test_df, accuracy=True, step_days=step, month_length=period)\n",
    "    for step, period in tqdm.tqdm_notebook(rel_combinations)\n",
    "          }"
   ]
  },
  {
   "cell_type": "raw",
   "metadata": {},
   "source": [
    "results_avg_accuracy = dict()\n",
    "for tup in results:\n",
    "    results_avg_accuracy[tup] = sum(results[tup].values())/len(results[tup].values())\n",
    "    \n",
    "# results_avg_accuracy = {k: v for k, v in sorted(results_avg_accuracy.items(), key=lambda item: item[1])}\n",
    "sorted_keys = sorted(results_avg_accuracy, key=results_avg_accuracy.get, reverse=True)\n",
    "sorted_avg_accuracy = {_: results_avg_accuracy[_] for _ in mah}"
   ]
  },
  {
   "cell_type": "code",
   "execution_count": 27,
   "metadata": {},
   "outputs": [
    {
     "data": {
      "text/plain": [
       "{(6, 19): 0.4913257997771762,\n",
       " (2, 10): 0.48991784914115005,\n",
       " (6, 28): 0.4898933630431324,\n",
       " (6, 27): 0.48957504376890004,\n",
       " (7, 27): 0.4893577296489918,\n",
       " (3, 11): 0.48901798503899396,\n",
       " (5, 18): 0.4888947998404044,\n",
       " (3, 12): 0.4883813464905296,\n",
       " (5, 23): 0.4883628142040166,\n",
       " (4, 12): 0.48778406059959445,\n",
       " (4, 13): 0.4875706817454388,\n",
       " (8, 25): 0.48754748839172657,\n",
       " (2, 11): 0.4875173370318998,\n",
       " (2, 12): 0.4873573028912834,\n",
       " (7, 26): 0.4873039581777446,\n",
       " (4, 14): 0.4870372346100499,\n",
       " (3, 13): 0.48671017030081176,\n",
       " (5, 28): 0.4866338608857561,\n",
       " (3, 10): 0.4866305904822537,\n",
       " (7, 25): 0.48599701269604173,\n",
       " (7, 24): 0.4854368932038835,\n",
       " (5, 16): 0.4851709003856896,\n",
       " (5, 26): 0.4849049075674957,\n",
       " (5, 17): 0.4849049075674956,\n",
       " (2, 9): 0.4847434119278777,\n",
       " (4, 21): 0.48458337778726096,\n",
       " (3, 14): 0.4843227757440712,\n",
       " (7, 28): 0.48412994772218076,\n",
       " (4, 18): 0.48383655179771656,\n",
       " (4, 17): 0.48372986237063864,\n",
       " (7, 21): 0.4835698282300223,\n",
       " (6, 18): 0.4825720197357948,\n",
       " (5, 21): 0.4823779757946537,\n",
       " (9, 27): 0.48235851290551723,\n",
       " (4, 19): 0.4823428998186278,\n",
       " (6, 21): 0.48209454082444675,\n",
       " (2, 6): 0.48175610796970003,\n",
       " (5, 24): 0.4814470009309749,\n",
       " (8, 24): 0.481426762346982,\n",
       " (4, 15): 0.4812760055478501,\n",
       " (9, 28): 0.4811745204830691,\n",
       " (6, 25): 0.48113958300175075,\n",
       " (3, 9): 0.4809804233646347,\n",
       " (4, 20): 0.4809559372666166,\n",
       " (6, 24): 0.4805029444532864,\n",
       " (8, 26): 0.4803714647530604,\n",
       " (6, 20): 0.4801846251790545,\n",
       " (5, 19): 0.4799840404309083,\n",
       " (3, 18): 0.47994588572338076,\n",
       " (4, 22): 0.4798890429958386,\n",
       " (8, 27): 0.4797382861967074,\n",
       " (3, 17): 0.4792296673563584,\n",
       " (2, 7): 0.4788754934386001,\n",
       " (5, 27): 0.4773241122489694,\n",
       " (4, 24): 0.47722180731889446,\n",
       " (2, 8): 0.4770617731782777,\n",
       " (6, 22): 0.4770014324367341,\n",
       " (5, 15): 0.4769251230216787,\n",
       " (4, 16): 0.47679504961058344,\n",
       " (8, 28): 0.4767834529337272,\n",
       " (4, 23): 0.4766883601835056,\n",
       " (6, 23): 0.47652395352538585,\n",
       " (3, 15): 0.47628521406971197,\n",
       " (6, 26): 0.47620563425115386,\n",
       " (5, 25): 0.4747971804761271,\n",
       " (5, 20): 0.4746641840670302,\n",
       " (5, 22): 0.4743981912488363,\n",
       " (3, 16): 0.47373865987585534,\n",
       " (7, 23): 0.470873786407767,\n",
       " (7, 22): 0.4701269604182225}"
      ]
     },
     "execution_count": 27,
     "metadata": {},
     "output_type": "execute_result"
    }
   ],
   "source": [
    "sorted_avg_accuracy"
   ]
  },
  {
   "cell_type": "code",
   "execution_count": 10,
   "metadata": {
    "pycharm": {
     "is_executing": false
    }
   },
   "outputs": [],
   "source": [
    "z = get_df_matrix(test_df, accuracy=True, step_days=2, month_length=4, threshold=10, evaluate_trend=True)"
   ]
  },
  {
   "cell_type": "code",
   "execution_count": 11,
   "metadata": {},
   "outputs": [
    {
     "name": "stdout",
     "output_type": "stream",
     "text": [
      "Avg Accuracy    0.500907\n",
      "dtype: float64\n"
     ]
    }
   ],
   "source": [
    "z_df = pd.DataFrame(z.items(), columns=[\"Column\", \"Avg Accuracy\"])\n",
    "print(z_df.mean(axis=0))"
   ]
  },
  {
   "cell_type": "raw",
   "metadata": {},
   "source": [
    "results = dict()\n",
    "step_days = 28\n",
    "tp, tn, fp, fn = 0, 0, 0, 0\n",
    "\n",
    "for col in df.columns:\n",
    "    column = df[col]\n",
    "    for day in range(0, 361, step_days):\n",
    "        month = column[day : (day + month_length)]                              # len(month) == month_length       \n",
    "        train, test = month[: -step_days], month[-step_days:]\n",
    "\n",
    "        model = LinearRegression()\n",
    "        X_train = train.index.values.reshape(-1, 1)\n",
    "        y_train = train\n",
    "        model.fit(X_train, y_train)\n",
    "\n",
    "        real_target = is_trending_up_real_target(test)\n",
    "\n",
    "        predicted_target = is_up_predicted_target(model.coef_)\n",
    "        tp, tn, fp, fn = update_eval_values(tp, tn, fp, fn, predicted_target, real_target)\n",
    "\n",
    "    results[col] = (tp + tn) / (tp + tn + fp + fn)"
   ]
  }
 ],
 "metadata": {
  "kernelspec": {
   "display_name": "Python 3",
   "language": "python",
   "name": "python3"
  },
  "language_info": {
   "codemirror_mode": {
    "name": "ipython",
    "version": 3
   },
   "file_extension": ".py",
   "mimetype": "text/x-python",
   "name": "python",
   "nbconvert_exporter": "python",
   "pygments_lexer": "ipython3",
   "version": "3.7.6"
  },
  "pycharm": {
   "stem_cell": {
    "cell_type": "raw",
    "metadata": {
     "collapsed": false
    },
    "source": []
   }
  }
 },
 "nbformat": 4,
 "nbformat_minor": 4
}
