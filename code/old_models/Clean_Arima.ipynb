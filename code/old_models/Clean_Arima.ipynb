{
 "cells": [
  {
   "cell_type": "code",
   "execution_count": 1,
   "metadata": {},
   "outputs": [],
   "source": [
    "import pandas as pd\n",
    "import matplotlib.pyplot as plt\n",
    "import pmdarima as pm\n",
    "import statsmodels as sm\n",
    "from statsmodels.tsa.stattools import adfuller\n",
    "from statsmodels.graphics.tsaplots import plot_acf, plot_pacf\n",
    "from statsmodels.tsa.arima_model import ARIMA\n",
    "from sklearn.metrics import mean_squared_error"
   ]
  },
  {
   "cell_type": "code",
   "execution_count": 2,
   "metadata": {},
   "outputs": [],
   "source": [
    "%%capture\n",
    "# create loading bar\n",
    "from tqdm.notebook import tqdm\n",
    "tqdm().pandas()"
   ]
  },
  {
   "cell_type": "code",
   "execution_count": 3,
   "metadata": {},
   "outputs": [],
   "source": [
    "count_ig_csv = 'emerging_risks_doc_count_instagram.csv'\n",
    "count_tw_csv = 'emerging_risks_doc_count_twitter.csv'\n",
    "engagement_fb_csv = 'emerging_risks_local_engagement_facebook.csv'\n",
    "engagement_ig_csv = 'emerging_risks_local_engagement_instagram.csv'\n",
    "engagement_tw_csv = 'emerging_risks_local_engagement_twitter.csv'\n",
    "files = [count_ig_csv, count_tw_csv, engagement_fb_csv, engagement_ig_csv, engagement_tw_csv]"
   ]
  },
  {
   "cell_type": "code",
   "execution_count": 4,
   "metadata": {},
   "outputs": [],
   "source": [
    "df = pd.read_csv(engagement_tw_csv)\n",
    "df.date = pd.to_datetime(df.date)"
   ]
  },
  {
   "cell_type": "code",
   "execution_count": 5,
   "metadata": {},
   "outputs": [],
   "source": [
    "def arima_predict(ser: pd.Series, p: int, d: int, q: int, train_size: float = 0.66) -> dict:\n",
    "    X = ser.values\n",
    "    size = int(len(X) * train_size)\n",
    "    train, test = X[0:size], X[size:len(X)]\n",
    "    history = [x for x in train]\n",
    "    predictions = list()\n",
    "\n",
    "    for t in tqdm(range(len(test))):\n",
    "        model = ARIMA(history, order=(p, d, q))\n",
    "        model_fit = model.fit(disp=False) # disp=False means no convergence output\n",
    "        output = model_fit.forecast()\n",
    "        yhat = output[0]\n",
    "        if yhat is None:\n",
    "            raise ValueError(\"Hessian could not be inverted and no value could be forecasted.\") # maybe try in R?\n",
    "        predictions.append(yhat)\n",
    "        obs = test[t]\n",
    "        history.append(obs)\n",
    "    \n",
    "    error = mean_squared_error(test, predictions) # THE LOWER THE BETTER! Current record: 14545 by Lorenzo\n",
    "    print(f'Test MSE: {error:.3f}')\n",
    "    return {'test': test, 'predictions': predictions, 'MSE': error}\n",
    "\n",
    "def plot_arima_predict(arima_predict_result: dict) -> None:\n",
    "    # plot\n",
    "    plt.plot(arima_predict_result[\"test\"])\n",
    "    plt.plot(arima_predict_result[\"predictions\"], color='red')\n",
    "    plt.show()"
   ]
  },
  {
   "cell_type": "code",
   "execution_count": null,
   "metadata": {},
   "outputs": [],
   "source": [
    "plot_arima_predict(arima_predict(df.Pesticides), 1,1,0)"
   ]
  },
  {
   "cell_type": "code",
   "execution_count": null,
   "metadata": {},
   "outputs": [],
   "source": [
    "plot_arima_predict(arima_predict(df.Pesticides[:-3].rolling(7).mean()[7:], 7, 1, 0))"
   ]
  }
 ],
 "metadata": {
  "kernelspec": {
   "display_name": "Python 3",
   "language": "python",
   "name": "python3"
  },
  "language_info": {
   "codemirror_mode": {
    "name": "ipython",
    "version": 3
   },
   "file_extension": ".py",
   "mimetype": "text/x-python",
   "name": "python",
   "nbconvert_exporter": "python",
   "pygments_lexer": "ipython3",
   "version": "3.6.10"
  }
 },
 "nbformat": 4,
 "nbformat_minor": 2
}
